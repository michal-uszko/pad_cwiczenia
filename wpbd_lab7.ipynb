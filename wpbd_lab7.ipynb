{
  "nbformat": 4,
  "nbformat_minor": 0,
  "metadata": {
    "colab": {
      "provenance": [],
      "authorship_tag": "ABX9TyNx2ffaKuc2KFae460aGXqO",
      "include_colab_link": true
    },
    "kernelspec": {
      "name": "python3",
      "display_name": "Python 3"
    },
    "language_info": {
      "name": "python"
    }
  },
  "cells": [
    {
      "cell_type": "markdown",
      "metadata": {
        "id": "view-in-github",
        "colab_type": "text"
      },
      "source": [
        "<a href=\"https://colab.research.google.com/github/michal-uszko/pad_cwiczenia/blob/main/wpbd_lab7.ipynb\" target=\"_parent\"><img src=\"https://colab.research.google.com/assets/colab-badge.svg\" alt=\"Open In Colab\"/></a>"
      ]
    },
    {
      "cell_type": "code",
      "source": [
        "from google.colab import drive\n",
        "drive.mount('/content/drive')"
      ],
      "metadata": {
        "colab": {
          "base_uri": "https://localhost:8080/"
        },
        "id": "JfjwHG_r098A",
        "outputId": "15b92b99-f7b5-4a12-fa58-c42f5e1ebb51"
      },
      "execution_count": 1,
      "outputs": [
        {
          "output_type": "stream",
          "name": "stdout",
          "text": [
            "Mounted at /content/drive\n"
          ]
        }
      ]
    },
    {
      "cell_type": "code",
      "execution_count": 2,
      "metadata": {
        "id": "Yw1Dfqmkwwvj"
      },
      "outputs": [],
      "source": [
        "!apt-get install openjdk-11-jdk-headless -qq > /dev/null\n",
        "!wget -q https://dlcdn.apache.org/spark/spark-3.3.1/spark-3.3.1-bin-hadoop3.tgz"
      ]
    },
    {
      "cell_type": "code",
      "source": [
        "!tar xf spark-3.3.1-bin-hadoop3.tgz"
      ],
      "metadata": {
        "id": "xlycg2d2xt5y"
      },
      "execution_count": 3,
      "outputs": []
    },
    {
      "cell_type": "code",
      "source": [
        "import os\n",
        "os.environ[\"JAVA_HOME\"] = \"/usr/lib/jvm/java-11-openjdk-amd64\"\n",
        "os.environ[\"SPARK_HOME\"] = \"/content/spark-3.3.1-bin-hadoop3\"\n",
        "\n",
        "!pip install -q findspark\n",
        "\n",
        "import findspark\n",
        " \n",
        "findspark.init()\n",
        "\n",
        "findspark.find()# sprawdzenie gdzie znajduje się instalka"
      ],
      "metadata": {
        "colab": {
          "base_uri": "https://localhost:8080/",
          "height": 35
        },
        "id": "lj_zCHVaxwzd",
        "outputId": "3f4f81b3-cf21-47d5-e02c-2ad06fe7e369"
      },
      "execution_count": 4,
      "outputs": [
        {
          "output_type": "execute_result",
          "data": {
            "text/plain": [
              "'/content/spark-3.3.1-bin-hadoop3'"
            ],
            "application/vnd.google.colaboratory.intrinsic+json": {
              "type": "string"
            }
          },
          "metadata": {},
          "execution_count": 4
        }
      ]
    },
    {
      "cell_type": "markdown",
      "source": [
        "Zadanie 1 - total spent by customer"
      ],
      "metadata": {
        "id": "zkw-cJ-EvkZ0"
      }
    },
    {
      "cell_type": "code",
      "source": [
        "from pyspark.sql import SparkSession\n",
        "from pyspark.sql import Row\n",
        "\n",
        "# tworzymy SparkSession zamiast context\n",
        "spark = SparkSession.builder.appName(\"SparkSQL\").getOrCreate()\n",
        "# getOrCreate tworzy nową sesję albo podłącza się do istniejącej\n",
        "\n",
        "def mapper(line):\n",
        "    fields = line.split(',')\n",
        "    return Row(id_client=int(fields[0]), id_item=int(fields[1]), order_value=float(fields[2]))\n",
        "\n",
        "# dane nie mają nagłówka, dlatego korzystamy z contextu żeby załadować dane\n",
        "lines = spark.sparkContext.textFile(\"/content/drive/MyDrive/WPBD/lab7/materialy/praca domowa/customer-orders.csv\")\n",
        "# nasza funkcja przekonwertuje nasze dane na wiersze i pola z nazwami kolumn i typami danych\n",
        "people = lines.map(mapper)\n",
        "\n",
        "# tworzymy dataframe\n",
        "# cacheujemy ponieważchcemy wysyłać wiele zapytań i trzeba to jakoś przechować w pamięci\n",
        "schemaPeople = spark.createDataFrame(people).cache()\n",
        "# tworzymy widok jak w bazie danych aby wysyłać zapytania, widok people działa jak tabela\n",
        "schemaPeople.createOrReplaceTempView(\"customer_orders\")\n",
        "\n",
        "schemaPeople.groupBy(\"id_client\").sum(\"order_value\").withColumnRenamed(\"sum(order_value)\", \"sum_order_value\").show(100)\n",
        "\n",
        "spark.stop()"
      ],
      "metadata": {
        "colab": {
          "base_uri": "https://localhost:8080/"
        },
        "id": "pL4cc4iD76O1",
        "outputId": "801b721a-41e3-473f-d1c6-c0ceab2e115f"
      },
      "execution_count": 23,
      "outputs": [
        {
          "output_type": "stream",
          "name": "stdout",
          "text": [
            "+---------+------------------+\n",
            "|id_client|   sum_order_value|\n",
            "+---------+------------------+\n",
            "|       29| 5032.530000000001|\n",
            "|       26|            5250.4|\n",
            "|       65|           5140.35|\n",
            "|       54| 6065.390000000001|\n",
            "|       19|           5059.43|\n",
            "|        0| 5524.949999999999|\n",
            "|       22| 5019.449999999999|\n",
            "|        7| 4755.069999999999|\n",
            "|       77|           4327.73|\n",
            "|       34|            5330.8|\n",
            "|       50|4517.2699999999995|\n",
            "|       94| 4475.570000000001|\n",
            "|       57|            4628.4|\n",
            "|       43|           5368.83|\n",
            "|       32|           5496.05|\n",
            "|       84|4652.9400000000005|\n",
            "|       31| 4765.049999999999|\n",
            "|       98| 4297.259999999999|\n",
            "|       39| 6193.110000000001|\n",
            "|       25| 5057.610000000001|\n",
            "|       95| 4876.839999999998|\n",
            "|       71| 5995.660000000002|\n",
            "|        6| 5397.879999999999|\n",
            "|       68| 6375.450000000001|\n",
            "|       72| 5337.439999999999|\n",
            "|       87|            5206.4|\n",
            "|       58|           5437.73|\n",
            "|        9|           5322.65|\n",
            "|       27|           4915.89|\n",
            "|       63|5415.1500000000015|\n",
            "|       51| 4975.220000000001|\n",
            "|       56|           4701.02|\n",
            "|       52|5245.0599999999995|\n",
            "|       79|3790.5699999999997|\n",
            "|       17|           5032.68|\n",
            "|       41| 5637.620000000001|\n",
            "|       88|           4830.55|\n",
            "|       33| 5254.660000000002|\n",
            "|       28| 5000.709999999999|\n",
            "|        5|           4561.07|\n",
            "|        1| 4958.600000000001|\n",
            "|       96|3924.2300000000005|\n",
            "|       10|            4819.7|\n",
            "|       89|           4851.48|\n",
            "|       85|           5503.43|\n",
            "|       48|           4384.33|\n",
            "|       67|           4505.79|\n",
            "|       44| 4756.890000000001|\n",
            "|       61|5497.4800000000005|\n",
            "|        3|           4659.63|\n",
            "|       37| 4735.200000000001|\n",
            "|       83|            4635.8|\n",
            "|       12| 4664.589999999999|\n",
            "|       55| 5298.089999999999|\n",
            "|       74| 4647.130000000001|\n",
            "|        8|           5517.24|\n",
            "|       62|5253.3200000000015|\n",
            "|       49|            4394.6|\n",
            "|       11| 5152.289999999999|\n",
            "|       35| 5155.420000000001|\n",
            "|       80|           4727.86|\n",
            "|        2|           5994.59|\n",
            "|       66|           4681.92|\n",
            "|       76| 4904.210000000001|\n",
            "|        4| 4815.050000000001|\n",
            "|       92| 5379.279999999999|\n",
            "|       13| 4367.619999999999|\n",
            "|       36| 4278.049999999999|\n",
            "|       75|            4178.5|\n",
            "|       78|           4524.51|\n",
            "|       18| 4921.269999999999|\n",
            "|       69|           5123.01|\n",
            "|       14| 4735.030000000001|\n",
            "|       21|           4707.41|\n",
            "|       59| 5642.889999999999|\n",
            "|       15|           5413.51|\n",
            "|       81| 5112.709999999999|\n",
            "|       82|           4812.49|\n",
            "|       38| 4898.460000000001|\n",
            "|       97|5977.1900000000005|\n",
            "|       42| 5696.840000000002|\n",
            "|       73| 6206.200000000001|\n",
            "|       30|           4990.72|\n",
            "|       90|           5290.41|\n",
            "|       23|           4042.65|\n",
            "|       46| 5963.109999999999|\n",
            "|       70| 5368.249999999999|\n",
            "|       20| 4836.860000000001|\n",
            "|       99|           4172.29|\n",
            "|       86| 4908.810000000001|\n",
            "|       60| 5040.709999999999|\n",
            "|       93|           5265.75|\n",
            "|       40| 5186.429999999999|\n",
            "|       64| 5288.689999999999|\n",
            "|       16|           4979.06|\n",
            "|       91|           4642.26|\n",
            "|       47| 4316.299999999998|\n",
            "|       53| 4945.300000000001|\n",
            "|       45|3309.3799999999997|\n",
            "|       24|           5259.92|\n",
            "+---------+------------------+\n",
            "\n"
          ]
        }
      ]
    },
    {
      "cell_type": "markdown",
      "source": [
        "Zadanie 2 - sorted total spent by customer"
      ],
      "metadata": {
        "id": "Yxboou6s0Urq"
      }
    },
    {
      "cell_type": "code",
      "source": [
        "from pyspark.sql import SparkSession\n",
        "from pyspark.sql import Row\n",
        "\n",
        "# tworzymy SparkSession zamiast context\n",
        "spark = SparkSession.builder.appName(\"SparkSQL\").getOrCreate()\n",
        "# getOrCreate tworzy nową sesję albo podłącza się do istniejącej\n",
        "\n",
        "def mapper(line):\n",
        "    fields = line.split(',')\n",
        "    return Row(id_client=int(fields[0]), id_item=int(fields[1]), order_value=float(fields[2]))\n",
        "\n",
        "# dane nie mają nagłówka, dlatego korzystamy z contextu żeby załadować dane\n",
        "lines = spark.sparkContext.textFile(\"/content/drive/MyDrive/WPBD/lab7/materialy/praca domowa/customer-orders.csv\")\n",
        "# nasza funkcja przekonwertuje nasze dane na wiersze i pola z nazwami kolumn i typami danych\n",
        "people = lines.map(mapper)\n",
        "\n",
        "# tworzymy dataframe\n",
        "# cacheujemy ponieważchcemy wysyłać wiele zapytań i trzeba to jakoś przechować w pamięci\n",
        "schemaPeople = spark.createDataFrame(people).cache()\n",
        "# tworzymy widok jak w bazie danych aby wysyłać zapytania, widok people działa jak tabela\n",
        "schemaPeople.createOrReplaceTempView(\"customer_orders\")\n",
        "\n",
        "schemaPeople.groupBy(\"id_client\").sum(\"order_value\").orderBy(\"sum(order_value)\").withColumnRenamed(\"sum(order_value)\", \"sum_order_value\").show(100)\n",
        "\n",
        "spark.stop()"
      ],
      "metadata": {
        "colab": {
          "base_uri": "https://localhost:8080/"
        },
        "id": "cKWl5vEk_iLb",
        "outputId": "8051ff4c-462a-41cf-f706-f2cf5c693998"
      },
      "execution_count": 28,
      "outputs": [
        {
          "output_type": "stream",
          "name": "stdout",
          "text": [
            "+---------+------------------+\n",
            "|id_client|   sum_order_value|\n",
            "+---------+------------------+\n",
            "|       45|3309.3799999999997|\n",
            "|       79|3790.5699999999997|\n",
            "|       96|3924.2300000000005|\n",
            "|       23|           4042.65|\n",
            "|       99|           4172.29|\n",
            "|       75|            4178.5|\n",
            "|       36| 4278.049999999999|\n",
            "|       98| 4297.259999999999|\n",
            "|       47| 4316.299999999998|\n",
            "|       77|           4327.73|\n",
            "|       13| 4367.619999999999|\n",
            "|       48|           4384.33|\n",
            "|       49|            4394.6|\n",
            "|       94| 4475.570000000001|\n",
            "|       67|           4505.79|\n",
            "|       50|4517.2699999999995|\n",
            "|       78|           4524.51|\n",
            "|        5|           4561.07|\n",
            "|       57|            4628.4|\n",
            "|       83|            4635.8|\n",
            "|       91|           4642.26|\n",
            "|       74| 4647.130000000001|\n",
            "|       84|4652.9400000000005|\n",
            "|        3|           4659.63|\n",
            "|       12| 4664.589999999999|\n",
            "|       66|           4681.92|\n",
            "|       56|           4701.02|\n",
            "|       21|           4707.41|\n",
            "|       80|           4727.86|\n",
            "|       14| 4735.030000000001|\n",
            "|       37| 4735.200000000001|\n",
            "|        7| 4755.069999999999|\n",
            "|       44| 4756.890000000001|\n",
            "|       31| 4765.049999999999|\n",
            "|       82|           4812.49|\n",
            "|        4| 4815.050000000001|\n",
            "|       10|            4819.7|\n",
            "|       88|           4830.55|\n",
            "|       20| 4836.860000000001|\n",
            "|       89|           4851.48|\n",
            "|       95| 4876.839999999998|\n",
            "|       38| 4898.460000000001|\n",
            "|       76| 4904.210000000001|\n",
            "|       86| 4908.810000000001|\n",
            "|       27|           4915.89|\n",
            "|       18| 4921.269999999999|\n",
            "|       53| 4945.300000000001|\n",
            "|        1| 4958.600000000001|\n",
            "|       51| 4975.220000000001|\n",
            "|       16|           4979.06|\n",
            "|       30|           4990.72|\n",
            "|       28| 5000.709999999999|\n",
            "|       22| 5019.449999999999|\n",
            "|       29| 5032.530000000001|\n",
            "|       17|           5032.68|\n",
            "|       60| 5040.709999999999|\n",
            "|       25| 5057.610000000001|\n",
            "|       19|           5059.43|\n",
            "|       81| 5112.709999999999|\n",
            "|       69|           5123.01|\n",
            "|       65|           5140.35|\n",
            "|       11| 5152.289999999999|\n",
            "|       35| 5155.420000000001|\n",
            "|       40| 5186.429999999999|\n",
            "|       87|            5206.4|\n",
            "|       52|5245.0599999999995|\n",
            "|       26|            5250.4|\n",
            "|       62|5253.3200000000015|\n",
            "|       33| 5254.660000000002|\n",
            "|       24|           5259.92|\n",
            "|       93|           5265.75|\n",
            "|       64| 5288.689999999999|\n",
            "|       90|           5290.41|\n",
            "|       55| 5298.089999999999|\n",
            "|        9|           5322.65|\n",
            "|       34|            5330.8|\n",
            "|       72| 5337.439999999999|\n",
            "|       70| 5368.249999999999|\n",
            "|       43|           5368.83|\n",
            "|       92| 5379.279999999999|\n",
            "|        6| 5397.879999999999|\n",
            "|       15|           5413.51|\n",
            "|       63|5415.1500000000015|\n",
            "|       58|           5437.73|\n",
            "|       32|           5496.05|\n",
            "|       61|5497.4800000000005|\n",
            "|       85|           5503.43|\n",
            "|        8|           5517.24|\n",
            "|        0| 5524.949999999999|\n",
            "|       41| 5637.620000000001|\n",
            "|       59| 5642.889999999999|\n",
            "|       42| 5696.840000000002|\n",
            "|       46| 5963.109999999999|\n",
            "|       97|5977.1900000000005|\n",
            "|        2|           5994.59|\n",
            "|       71| 5995.660000000002|\n",
            "|       54| 6065.390000000001|\n",
            "|       39| 6193.110000000001|\n",
            "|       73| 6206.200000000001|\n",
            "|       68| 6375.450000000001|\n",
            "+---------+------------------+\n",
            "\n"
          ]
        }
      ]
    }
  ]
}